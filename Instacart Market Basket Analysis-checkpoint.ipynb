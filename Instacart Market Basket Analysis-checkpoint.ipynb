{
 "cells": [
  {
   "cell_type": "code",
   "execution_count": 1,
   "id": "7fff6d08",
   "metadata": {},
   "outputs": [],
   "source": [
    "import pandas as pd"
   ]
  },
  {
   "cell_type": "code",
   "execution_count": 2,
   "id": "90775e14",
   "metadata": {
    "scrolled": false
   },
   "outputs": [],
   "source": [
    "orders = pd.read_csv('orders.csv')\n",
    "products = pd.read_csv('products.csv')\n",
    "order_products_prior = pd.read_csv('order_products__prior.csv')\n",
    "order_products_train = pd.read_csv('order_products__train.csv')\n",
    "aisles = pd.read_csv('aisles.csv')\n",
    "departments = pd.read_csv('departments.csv')"
   ]
  },
  {
   "cell_type": "code",
   "execution_count": 3,
   "id": "3aa0e2dd",
   "metadata": {},
   "outputs": [
    {
     "data": {
      "text/html": [
       "<div>\n",
       "<style scoped>\n",
       "    .dataframe tbody tr th:only-of-type {\n",
       "        vertical-align: middle;\n",
       "    }\n",
       "\n",
       "    .dataframe tbody tr th {\n",
       "        vertical-align: top;\n",
       "    }\n",
       "\n",
       "    .dataframe thead th {\n",
       "        text-align: right;\n",
       "    }\n",
       "</style>\n",
       "<table border=\"1\" class=\"dataframe\">\n",
       "  <thead>\n",
       "    <tr style=\"text-align: right;\">\n",
       "      <th></th>\n",
       "      <th>order_id</th>\n",
       "      <th>user_id</th>\n",
       "      <th>eval_set</th>\n",
       "      <th>order_number</th>\n",
       "      <th>order_dow</th>\n",
       "      <th>order_hour_of_day</th>\n",
       "      <th>days_since_prior_order</th>\n",
       "    </tr>\n",
       "  </thead>\n",
       "  <tbody>\n",
       "    <tr>\n",
       "      <th>0</th>\n",
       "      <td>2539329</td>\n",
       "      <td>1</td>\n",
       "      <td>prior</td>\n",
       "      <td>1</td>\n",
       "      <td>2</td>\n",
       "      <td>8</td>\n",
       "      <td>NaN</td>\n",
       "    </tr>\n",
       "    <tr>\n",
       "      <th>1</th>\n",
       "      <td>2398795</td>\n",
       "      <td>1</td>\n",
       "      <td>prior</td>\n",
       "      <td>2</td>\n",
       "      <td>3</td>\n",
       "      <td>7</td>\n",
       "      <td>15.0</td>\n",
       "    </tr>\n",
       "    <tr>\n",
       "      <th>2</th>\n",
       "      <td>473747</td>\n",
       "      <td>1</td>\n",
       "      <td>prior</td>\n",
       "      <td>3</td>\n",
       "      <td>3</td>\n",
       "      <td>12</td>\n",
       "      <td>21.0</td>\n",
       "    </tr>\n",
       "    <tr>\n",
       "      <th>3</th>\n",
       "      <td>2254736</td>\n",
       "      <td>1</td>\n",
       "      <td>prior</td>\n",
       "      <td>4</td>\n",
       "      <td>4</td>\n",
       "      <td>7</td>\n",
       "      <td>29.0</td>\n",
       "    </tr>\n",
       "    <tr>\n",
       "      <th>4</th>\n",
       "      <td>431534</td>\n",
       "      <td>1</td>\n",
       "      <td>prior</td>\n",
       "      <td>5</td>\n",
       "      <td>4</td>\n",
       "      <td>15</td>\n",
       "      <td>28.0</td>\n",
       "    </tr>\n",
       "  </tbody>\n",
       "</table>\n",
       "</div>"
      ],
      "text/plain": [
       "   order_id  user_id eval_set  order_number  order_dow  order_hour_of_day  \\\n",
       "0   2539329        1    prior             1          2                  8   \n",
       "1   2398795        1    prior             2          3                  7   \n",
       "2    473747        1    prior             3          3                 12   \n",
       "3   2254736        1    prior             4          4                  7   \n",
       "4    431534        1    prior             5          4                 15   \n",
       "\n",
       "   days_since_prior_order  \n",
       "0                     NaN  \n",
       "1                    15.0  \n",
       "2                    21.0  \n",
       "3                    29.0  \n",
       "4                    28.0  "
      ]
     },
     "execution_count": 3,
     "metadata": {},
     "output_type": "execute_result"
    }
   ],
   "source": [
    "orders.head()"
   ]
  },
  {
   "cell_type": "code",
   "execution_count": 5,
   "id": "59740236",
   "metadata": {},
   "outputs": [
    {
     "data": {
      "text/html": [
       "<div>\n",
       "<style scoped>\n",
       "    .dataframe tbody tr th:only-of-type {\n",
       "        vertical-align: middle;\n",
       "    }\n",
       "\n",
       "    .dataframe tbody tr th {\n",
       "        vertical-align: top;\n",
       "    }\n",
       "\n",
       "    .dataframe thead th {\n",
       "        text-align: right;\n",
       "    }\n",
       "</style>\n",
       "<table border=\"1\" class=\"dataframe\">\n",
       "  <thead>\n",
       "    <tr style=\"text-align: right;\">\n",
       "      <th></th>\n",
       "      <th>product_id</th>\n",
       "      <th>product_name</th>\n",
       "      <th>aisle_id</th>\n",
       "      <th>department_id</th>\n",
       "    </tr>\n",
       "  </thead>\n",
       "  <tbody>\n",
       "    <tr>\n",
       "      <th>0</th>\n",
       "      <td>1</td>\n",
       "      <td>Chocolate Sandwich Cookies</td>\n",
       "      <td>61</td>\n",
       "      <td>19</td>\n",
       "    </tr>\n",
       "    <tr>\n",
       "      <th>1</th>\n",
       "      <td>2</td>\n",
       "      <td>All-Seasons Salt</td>\n",
       "      <td>104</td>\n",
       "      <td>13</td>\n",
       "    </tr>\n",
       "    <tr>\n",
       "      <th>2</th>\n",
       "      <td>3</td>\n",
       "      <td>Robust Golden Unsweetened Oolong Tea</td>\n",
       "      <td>94</td>\n",
       "      <td>7</td>\n",
       "    </tr>\n",
       "    <tr>\n",
       "      <th>3</th>\n",
       "      <td>4</td>\n",
       "      <td>Smart Ones Classic Favorites Mini Rigatoni Wit...</td>\n",
       "      <td>38</td>\n",
       "      <td>1</td>\n",
       "    </tr>\n",
       "    <tr>\n",
       "      <th>4</th>\n",
       "      <td>5</td>\n",
       "      <td>Green Chile Anytime Sauce</td>\n",
       "      <td>5</td>\n",
       "      <td>13</td>\n",
       "    </tr>\n",
       "  </tbody>\n",
       "</table>\n",
       "</div>"
      ],
      "text/plain": [
       "   product_id                                       product_name  aisle_id  \\\n",
       "0           1                         Chocolate Sandwich Cookies        61   \n",
       "1           2                                   All-Seasons Salt       104   \n",
       "2           3               Robust Golden Unsweetened Oolong Tea        94   \n",
       "3           4  Smart Ones Classic Favorites Mini Rigatoni Wit...        38   \n",
       "4           5                          Green Chile Anytime Sauce         5   \n",
       "\n",
       "   department_id  \n",
       "0             19  \n",
       "1             13  \n",
       "2              7  \n",
       "3              1  \n",
       "4             13  "
      ]
     },
     "execution_count": 5,
     "metadata": {},
     "output_type": "execute_result"
    }
   ],
   "source": [
    "products.head()"
   ]
  },
  {
   "cell_type": "code",
   "execution_count": 6,
   "id": "1a5e9f74",
   "metadata": {},
   "outputs": [
    {
     "data": {
      "text/html": [
       "<div>\n",
       "<style scoped>\n",
       "    .dataframe tbody tr th:only-of-type {\n",
       "        vertical-align: middle;\n",
       "    }\n",
       "\n",
       "    .dataframe tbody tr th {\n",
       "        vertical-align: top;\n",
       "    }\n",
       "\n",
       "    .dataframe thead th {\n",
       "        text-align: right;\n",
       "    }\n",
       "</style>\n",
       "<table border=\"1\" class=\"dataframe\">\n",
       "  <thead>\n",
       "    <tr style=\"text-align: right;\">\n",
       "      <th></th>\n",
       "      <th>order_id</th>\n",
       "      <th>product_id</th>\n",
       "      <th>add_to_cart_order</th>\n",
       "      <th>reordered</th>\n",
       "    </tr>\n",
       "  </thead>\n",
       "  <tbody>\n",
       "    <tr>\n",
       "      <th>0</th>\n",
       "      <td>2</td>\n",
       "      <td>33120</td>\n",
       "      <td>1</td>\n",
       "      <td>1</td>\n",
       "    </tr>\n",
       "    <tr>\n",
       "      <th>1</th>\n",
       "      <td>2</td>\n",
       "      <td>28985</td>\n",
       "      <td>2</td>\n",
       "      <td>1</td>\n",
       "    </tr>\n",
       "    <tr>\n",
       "      <th>2</th>\n",
       "      <td>2</td>\n",
       "      <td>9327</td>\n",
       "      <td>3</td>\n",
       "      <td>0</td>\n",
       "    </tr>\n",
       "    <tr>\n",
       "      <th>3</th>\n",
       "      <td>2</td>\n",
       "      <td>45918</td>\n",
       "      <td>4</td>\n",
       "      <td>1</td>\n",
       "    </tr>\n",
       "    <tr>\n",
       "      <th>4</th>\n",
       "      <td>2</td>\n",
       "      <td>30035</td>\n",
       "      <td>5</td>\n",
       "      <td>0</td>\n",
       "    </tr>\n",
       "  </tbody>\n",
       "</table>\n",
       "</div>"
      ],
      "text/plain": [
       "   order_id  product_id  add_to_cart_order  reordered\n",
       "0         2       33120                  1          1\n",
       "1         2       28985                  2          1\n",
       "2         2        9327                  3          0\n",
       "3         2       45918                  4          1\n",
       "4         2       30035                  5          0"
      ]
     },
     "execution_count": 6,
     "metadata": {},
     "output_type": "execute_result"
    }
   ],
   "source": [
    "order_products_prior.head()"
   ]
  },
  {
   "cell_type": "code",
   "execution_count": 7,
   "id": "240de17f",
   "metadata": {},
   "outputs": [
    {
     "data": {
      "text/html": [
       "<div>\n",
       "<style scoped>\n",
       "    .dataframe tbody tr th:only-of-type {\n",
       "        vertical-align: middle;\n",
       "    }\n",
       "\n",
       "    .dataframe tbody tr th {\n",
       "        vertical-align: top;\n",
       "    }\n",
       "\n",
       "    .dataframe thead th {\n",
       "        text-align: right;\n",
       "    }\n",
       "</style>\n",
       "<table border=\"1\" class=\"dataframe\">\n",
       "  <thead>\n",
       "    <tr style=\"text-align: right;\">\n",
       "      <th></th>\n",
       "      <th>order_id</th>\n",
       "      <th>product_id</th>\n",
       "      <th>add_to_cart_order</th>\n",
       "      <th>reordered</th>\n",
       "    </tr>\n",
       "  </thead>\n",
       "  <tbody>\n",
       "    <tr>\n",
       "      <th>0</th>\n",
       "      <td>1</td>\n",
       "      <td>49302</td>\n",
       "      <td>1</td>\n",
       "      <td>1</td>\n",
       "    </tr>\n",
       "    <tr>\n",
       "      <th>1</th>\n",
       "      <td>1</td>\n",
       "      <td>11109</td>\n",
       "      <td>2</td>\n",
       "      <td>1</td>\n",
       "    </tr>\n",
       "    <tr>\n",
       "      <th>2</th>\n",
       "      <td>1</td>\n",
       "      <td>10246</td>\n",
       "      <td>3</td>\n",
       "      <td>0</td>\n",
       "    </tr>\n",
       "    <tr>\n",
       "      <th>3</th>\n",
       "      <td>1</td>\n",
       "      <td>49683</td>\n",
       "      <td>4</td>\n",
       "      <td>0</td>\n",
       "    </tr>\n",
       "    <tr>\n",
       "      <th>4</th>\n",
       "      <td>1</td>\n",
       "      <td>43633</td>\n",
       "      <td>5</td>\n",
       "      <td>1</td>\n",
       "    </tr>\n",
       "  </tbody>\n",
       "</table>\n",
       "</div>"
      ],
      "text/plain": [
       "   order_id  product_id  add_to_cart_order  reordered\n",
       "0         1       49302                  1          1\n",
       "1         1       11109                  2          1\n",
       "2         1       10246                  3          0\n",
       "3         1       49683                  4          0\n",
       "4         1       43633                  5          1"
      ]
     },
     "execution_count": 7,
     "metadata": {},
     "output_type": "execute_result"
    }
   ],
   "source": [
    "order_products_train.head()"
   ]
  },
  {
   "cell_type": "code",
   "execution_count": 8,
   "id": "2cefdc21",
   "metadata": {},
   "outputs": [
    {
     "data": {
      "text/html": [
       "<div>\n",
       "<style scoped>\n",
       "    .dataframe tbody tr th:only-of-type {\n",
       "        vertical-align: middle;\n",
       "    }\n",
       "\n",
       "    .dataframe tbody tr th {\n",
       "        vertical-align: top;\n",
       "    }\n",
       "\n",
       "    .dataframe thead th {\n",
       "        text-align: right;\n",
       "    }\n",
       "</style>\n",
       "<table border=\"1\" class=\"dataframe\">\n",
       "  <thead>\n",
       "    <tr style=\"text-align: right;\">\n",
       "      <th></th>\n",
       "      <th>aisle_id</th>\n",
       "      <th>aisle</th>\n",
       "    </tr>\n",
       "  </thead>\n",
       "  <tbody>\n",
       "    <tr>\n",
       "      <th>0</th>\n",
       "      <td>1</td>\n",
       "      <td>prepared soups salads</td>\n",
       "    </tr>\n",
       "    <tr>\n",
       "      <th>1</th>\n",
       "      <td>2</td>\n",
       "      <td>specialty cheeses</td>\n",
       "    </tr>\n",
       "    <tr>\n",
       "      <th>2</th>\n",
       "      <td>3</td>\n",
       "      <td>energy granola bars</td>\n",
       "    </tr>\n",
       "    <tr>\n",
       "      <th>3</th>\n",
       "      <td>4</td>\n",
       "      <td>instant foods</td>\n",
       "    </tr>\n",
       "    <tr>\n",
       "      <th>4</th>\n",
       "      <td>5</td>\n",
       "      <td>marinades meat preparation</td>\n",
       "    </tr>\n",
       "  </tbody>\n",
       "</table>\n",
       "</div>"
      ],
      "text/plain": [
       "   aisle_id                       aisle\n",
       "0         1       prepared soups salads\n",
       "1         2           specialty cheeses\n",
       "2         3         energy granola bars\n",
       "3         4               instant foods\n",
       "4         5  marinades meat preparation"
      ]
     },
     "execution_count": 8,
     "metadata": {},
     "output_type": "execute_result"
    }
   ],
   "source": [
    "aisles.head()"
   ]
  },
  {
   "cell_type": "code",
   "execution_count": 9,
   "id": "2f456549",
   "metadata": {},
   "outputs": [
    {
     "data": {
      "text/html": [
       "<div>\n",
       "<style scoped>\n",
       "    .dataframe tbody tr th:only-of-type {\n",
       "        vertical-align: middle;\n",
       "    }\n",
       "\n",
       "    .dataframe tbody tr th {\n",
       "        vertical-align: top;\n",
       "    }\n",
       "\n",
       "    .dataframe thead th {\n",
       "        text-align: right;\n",
       "    }\n",
       "</style>\n",
       "<table border=\"1\" class=\"dataframe\">\n",
       "  <thead>\n",
       "    <tr style=\"text-align: right;\">\n",
       "      <th></th>\n",
       "      <th>department_id</th>\n",
       "      <th>department</th>\n",
       "    </tr>\n",
       "  </thead>\n",
       "  <tbody>\n",
       "    <tr>\n",
       "      <th>0</th>\n",
       "      <td>1</td>\n",
       "      <td>frozen</td>\n",
       "    </tr>\n",
       "    <tr>\n",
       "      <th>1</th>\n",
       "      <td>2</td>\n",
       "      <td>other</td>\n",
       "    </tr>\n",
       "    <tr>\n",
       "      <th>2</th>\n",
       "      <td>3</td>\n",
       "      <td>bakery</td>\n",
       "    </tr>\n",
       "    <tr>\n",
       "      <th>3</th>\n",
       "      <td>4</td>\n",
       "      <td>produce</td>\n",
       "    </tr>\n",
       "    <tr>\n",
       "      <th>4</th>\n",
       "      <td>5</td>\n",
       "      <td>alcohol</td>\n",
       "    </tr>\n",
       "  </tbody>\n",
       "</table>\n",
       "</div>"
      ],
      "text/plain": [
       "   department_id department\n",
       "0              1     frozen\n",
       "1              2      other\n",
       "2              3     bakery\n",
       "3              4    produce\n",
       "4              5    alcohol"
      ]
     },
     "execution_count": 9,
     "metadata": {},
     "output_type": "execute_result"
    }
   ],
   "source": [
    "departments.head()"
   ]
  },
  {
   "cell_type": "code",
   "execution_count": 10,
   "id": "13c01b52",
   "metadata": {},
   "outputs": [
    {
     "data": {
      "text/plain": [
       "order_id                       0\n",
       "user_id                        0\n",
       "eval_set                       0\n",
       "order_number                   0\n",
       "order_dow                      0\n",
       "order_hour_of_day              0\n",
       "days_since_prior_order    206209\n",
       "dtype: int64"
      ]
     },
     "execution_count": 10,
     "metadata": {},
     "output_type": "execute_result"
    }
   ],
   "source": [
    "orders.isnull().sum()"
   ]
  },
  {
   "cell_type": "code",
   "execution_count": 11,
   "id": "ffd1f98b",
   "metadata": {},
   "outputs": [
    {
     "data": {
      "text/plain": [
       "product_id       0\n",
       "product_name     0\n",
       "aisle_id         0\n",
       "department_id    0\n",
       "dtype: int64"
      ]
     },
     "execution_count": 11,
     "metadata": {},
     "output_type": "execute_result"
    }
   ],
   "source": [
    "products.isnull().sum()"
   ]
  },
  {
   "cell_type": "code",
   "execution_count": 12,
   "id": "dd8ba749",
   "metadata": {},
   "outputs": [
    {
     "data": {
      "text/plain": [
       "order_id             0\n",
       "product_id           0\n",
       "add_to_cart_order    0\n",
       "reordered            0\n",
       "dtype: int64"
      ]
     },
     "execution_count": 12,
     "metadata": {},
     "output_type": "execute_result"
    }
   ],
   "source": [
    "order_products_prior.isnull().sum()"
   ]
  },
  {
   "cell_type": "code",
   "execution_count": 13,
   "id": "20591122",
   "metadata": {},
   "outputs": [
    {
     "data": {
      "text/plain": [
       "order_id             0\n",
       "product_id           0\n",
       "add_to_cart_order    0\n",
       "reordered            0\n",
       "dtype: int64"
      ]
     },
     "execution_count": 13,
     "metadata": {},
     "output_type": "execute_result"
    }
   ],
   "source": [
    "order_products_train.isnull().sum()"
   ]
  },
  {
   "cell_type": "code",
   "execution_count": 14,
   "id": "0ab574ee",
   "metadata": {},
   "outputs": [
    {
     "data": {
      "text/plain": [
       "aisle_id    0\n",
       "aisle       0\n",
       "dtype: int64"
      ]
     },
     "execution_count": 14,
     "metadata": {},
     "output_type": "execute_result"
    }
   ],
   "source": [
    "aisles.isnull().sum()"
   ]
  },
  {
   "cell_type": "code",
   "execution_count": 15,
   "id": "2613728a",
   "metadata": {},
   "outputs": [
    {
     "data": {
      "text/plain": [
       "department_id    0\n",
       "department       0\n",
       "dtype: int64"
      ]
     },
     "execution_count": 15,
     "metadata": {},
     "output_type": "execute_result"
    }
   ],
   "source": [
    "departments.isnull().sum()"
   ]
  },
  {
   "cell_type": "code",
   "execution_count": 16,
   "id": "ed05b452",
   "metadata": {},
   "outputs": [],
   "source": [
    "orders.fillna(0,inplace=True)"
   ]
  },
  {
   "cell_type": "code",
   "execution_count": 17,
   "id": "e11fa3c3",
   "metadata": {},
   "outputs": [
    {
     "data": {
      "text/html": [
       "<div>\n",
       "<style scoped>\n",
       "    .dataframe tbody tr th:only-of-type {\n",
       "        vertical-align: middle;\n",
       "    }\n",
       "\n",
       "    .dataframe tbody tr th {\n",
       "        vertical-align: top;\n",
       "    }\n",
       "\n",
       "    .dataframe thead th {\n",
       "        text-align: right;\n",
       "    }\n",
       "</style>\n",
       "<table border=\"1\" class=\"dataframe\">\n",
       "  <thead>\n",
       "    <tr style=\"text-align: right;\">\n",
       "      <th></th>\n",
       "      <th>order_id</th>\n",
       "      <th>user_id</th>\n",
       "      <th>eval_set</th>\n",
       "      <th>order_number</th>\n",
       "      <th>order_dow</th>\n",
       "      <th>order_hour_of_day</th>\n",
       "      <th>days_since_prior_order</th>\n",
       "    </tr>\n",
       "  </thead>\n",
       "  <tbody>\n",
       "    <tr>\n",
       "      <th>0</th>\n",
       "      <td>2539329</td>\n",
       "      <td>1</td>\n",
       "      <td>prior</td>\n",
       "      <td>1</td>\n",
       "      <td>2</td>\n",
       "      <td>1900-01-01 08:00:00</td>\n",
       "      <td>0.0</td>\n",
       "    </tr>\n",
       "    <tr>\n",
       "      <th>1</th>\n",
       "      <td>2398795</td>\n",
       "      <td>1</td>\n",
       "      <td>prior</td>\n",
       "      <td>2</td>\n",
       "      <td>3</td>\n",
       "      <td>1900-01-01 07:00:00</td>\n",
       "      <td>15.0</td>\n",
       "    </tr>\n",
       "    <tr>\n",
       "      <th>2</th>\n",
       "      <td>473747</td>\n",
       "      <td>1</td>\n",
       "      <td>prior</td>\n",
       "      <td>3</td>\n",
       "      <td>3</td>\n",
       "      <td>1900-01-01 12:00:00</td>\n",
       "      <td>21.0</td>\n",
       "    </tr>\n",
       "    <tr>\n",
       "      <th>3</th>\n",
       "      <td>2254736</td>\n",
       "      <td>1</td>\n",
       "      <td>prior</td>\n",
       "      <td>4</td>\n",
       "      <td>4</td>\n",
       "      <td>1900-01-01 07:00:00</td>\n",
       "      <td>29.0</td>\n",
       "    </tr>\n",
       "    <tr>\n",
       "      <th>4</th>\n",
       "      <td>431534</td>\n",
       "      <td>1</td>\n",
       "      <td>prior</td>\n",
       "      <td>5</td>\n",
       "      <td>4</td>\n",
       "      <td>1900-01-01 15:00:00</td>\n",
       "      <td>28.0</td>\n",
       "    </tr>\n",
       "    <tr>\n",
       "      <th>5</th>\n",
       "      <td>3367565</td>\n",
       "      <td>1</td>\n",
       "      <td>prior</td>\n",
       "      <td>6</td>\n",
       "      <td>2</td>\n",
       "      <td>1900-01-01 07:00:00</td>\n",
       "      <td>19.0</td>\n",
       "    </tr>\n",
       "    <tr>\n",
       "      <th>6</th>\n",
       "      <td>550135</td>\n",
       "      <td>1</td>\n",
       "      <td>prior</td>\n",
       "      <td>7</td>\n",
       "      <td>1</td>\n",
       "      <td>1900-01-01 09:00:00</td>\n",
       "      <td>20.0</td>\n",
       "    </tr>\n",
       "    <tr>\n",
       "      <th>7</th>\n",
       "      <td>3108588</td>\n",
       "      <td>1</td>\n",
       "      <td>prior</td>\n",
       "      <td>8</td>\n",
       "      <td>1</td>\n",
       "      <td>1900-01-01 14:00:00</td>\n",
       "      <td>14.0</td>\n",
       "    </tr>\n",
       "    <tr>\n",
       "      <th>8</th>\n",
       "      <td>2295261</td>\n",
       "      <td>1</td>\n",
       "      <td>prior</td>\n",
       "      <td>9</td>\n",
       "      <td>1</td>\n",
       "      <td>1900-01-01 16:00:00</td>\n",
       "      <td>0.0</td>\n",
       "    </tr>\n",
       "    <tr>\n",
       "      <th>9</th>\n",
       "      <td>2550362</td>\n",
       "      <td>1</td>\n",
       "      <td>prior</td>\n",
       "      <td>10</td>\n",
       "      <td>4</td>\n",
       "      <td>1900-01-01 08:00:00</td>\n",
       "      <td>30.0</td>\n",
       "    </tr>\n",
       "  </tbody>\n",
       "</table>\n",
       "</div>"
      ],
      "text/plain": [
       "   order_id  user_id eval_set  order_number  order_dow   order_hour_of_day  \\\n",
       "0   2539329        1    prior             1          2 1900-01-01 08:00:00   \n",
       "1   2398795        1    prior             2          3 1900-01-01 07:00:00   \n",
       "2    473747        1    prior             3          3 1900-01-01 12:00:00   \n",
       "3   2254736        1    prior             4          4 1900-01-01 07:00:00   \n",
       "4    431534        1    prior             5          4 1900-01-01 15:00:00   \n",
       "5   3367565        1    prior             6          2 1900-01-01 07:00:00   \n",
       "6    550135        1    prior             7          1 1900-01-01 09:00:00   \n",
       "7   3108588        1    prior             8          1 1900-01-01 14:00:00   \n",
       "8   2295261        1    prior             9          1 1900-01-01 16:00:00   \n",
       "9   2550362        1    prior            10          4 1900-01-01 08:00:00   \n",
       "\n",
       "   days_since_prior_order  \n",
       "0                     0.0  \n",
       "1                    15.0  \n",
       "2                    21.0  \n",
       "3                    29.0  \n",
       "4                    28.0  \n",
       "5                    19.0  \n",
       "6                    20.0  \n",
       "7                    14.0  \n",
       "8                     0.0  \n",
       "9                    30.0  "
      ]
     },
     "execution_count": 17,
     "metadata": {},
     "output_type": "execute_result"
    }
   ],
   "source": [
    "orders['order_hour_of_day'] = pd.to_datetime(orders['order_hour_of_day'], format='%H')\n",
    "orders.head(10)"
   ]
  },
  {
   "cell_type": "code",
   "execution_count": 18,
   "id": "0d4e5ca0",
   "metadata": {},
   "outputs": [
    {
     "data": {
      "text/html": [
       "<div>\n",
       "<style scoped>\n",
       "    .dataframe tbody tr th:only-of-type {\n",
       "        vertical-align: middle;\n",
       "    }\n",
       "\n",
       "    .dataframe tbody tr th {\n",
       "        vertical-align: top;\n",
       "    }\n",
       "\n",
       "    .dataframe thead th {\n",
       "        text-align: right;\n",
       "    }\n",
       "</style>\n",
       "<table border=\"1\" class=\"dataframe\">\n",
       "  <thead>\n",
       "    <tr style=\"text-align: right;\">\n",
       "      <th></th>\n",
       "      <th>order_id</th>\n",
       "      <th>product_id</th>\n",
       "      <th>add_to_cart_order</th>\n",
       "      <th>reordered</th>\n",
       "      <th>product_name</th>\n",
       "      <th>aisle_id</th>\n",
       "      <th>department_id</th>\n",
       "      <th>aisle</th>\n",
       "      <th>department</th>\n",
       "    </tr>\n",
       "  </thead>\n",
       "  <tbody>\n",
       "    <tr>\n",
       "      <th>0</th>\n",
       "      <td>2</td>\n",
       "      <td>33120</td>\n",
       "      <td>1</td>\n",
       "      <td>1</td>\n",
       "      <td>Organic Egg Whites</td>\n",
       "      <td>86</td>\n",
       "      <td>16</td>\n",
       "      <td>eggs</td>\n",
       "      <td>dairy eggs</td>\n",
       "    </tr>\n",
       "    <tr>\n",
       "      <th>1</th>\n",
       "      <td>2</td>\n",
       "      <td>28985</td>\n",
       "      <td>2</td>\n",
       "      <td>1</td>\n",
       "      <td>Michigan Organic Kale</td>\n",
       "      <td>83</td>\n",
       "      <td>4</td>\n",
       "      <td>fresh vegetables</td>\n",
       "      <td>produce</td>\n",
       "    </tr>\n",
       "    <tr>\n",
       "      <th>2</th>\n",
       "      <td>2</td>\n",
       "      <td>9327</td>\n",
       "      <td>3</td>\n",
       "      <td>0</td>\n",
       "      <td>Garlic Powder</td>\n",
       "      <td>104</td>\n",
       "      <td>13</td>\n",
       "      <td>spices seasonings</td>\n",
       "      <td>pantry</td>\n",
       "    </tr>\n",
       "    <tr>\n",
       "      <th>3</th>\n",
       "      <td>2</td>\n",
       "      <td>45918</td>\n",
       "      <td>4</td>\n",
       "      <td>1</td>\n",
       "      <td>Coconut Butter</td>\n",
       "      <td>19</td>\n",
       "      <td>13</td>\n",
       "      <td>oils vinegars</td>\n",
       "      <td>pantry</td>\n",
       "    </tr>\n",
       "    <tr>\n",
       "      <th>4</th>\n",
       "      <td>2</td>\n",
       "      <td>30035</td>\n",
       "      <td>5</td>\n",
       "      <td>0</td>\n",
       "      <td>Natural Sweetener</td>\n",
       "      <td>17</td>\n",
       "      <td>13</td>\n",
       "      <td>baking ingredients</td>\n",
       "      <td>pantry</td>\n",
       "    </tr>\n",
       "  </tbody>\n",
       "</table>\n",
       "</div>"
      ],
      "text/plain": [
       "   order_id  product_id  add_to_cart_order  reordered           product_name  \\\n",
       "0         2       33120                  1          1     Organic Egg Whites   \n",
       "1         2       28985                  2          1  Michigan Organic Kale   \n",
       "2         2        9327                  3          0          Garlic Powder   \n",
       "3         2       45918                  4          1         Coconut Butter   \n",
       "4         2       30035                  5          0      Natural Sweetener   \n",
       "\n",
       "   aisle_id  department_id               aisle  department  \n",
       "0        86             16                eggs  dairy eggs  \n",
       "1        83              4    fresh vegetables     produce  \n",
       "2       104             13   spices seasonings      pantry  \n",
       "3        19             13       oils vinegars      pantry  \n",
       "4        17             13  baking ingredients      pantry  "
      ]
     },
     "execution_count": 18,
     "metadata": {},
     "output_type": "execute_result"
    }
   ],
   "source": [
    "order_products = pd.concat([order_products_prior, order_products_train], axis=0)\n",
    "order_products = order_products.merge(products, on='product_id', how='left')\n",
    "order_products = order_products.merge(aisles, on='aisle_id', how='left')\n",
    "order_products = order_products.merge(departments, on='department_id', how='left')\n",
    "\n",
    "# Verify the merge\n",
    "order_products.head()"
   ]
  },
  {
   "cell_type": "code",
   "execution_count": 19,
   "id": "3ddb20fc",
   "metadata": {},
   "outputs": [
    {
     "data": {
      "text/html": [
       "<div>\n",
       "<style scoped>\n",
       "    .dataframe tbody tr th:only-of-type {\n",
       "        vertical-align: middle;\n",
       "    }\n",
       "\n",
       "    .dataframe tbody tr th {\n",
       "        vertical-align: top;\n",
       "    }\n",
       "\n",
       "    .dataframe thead th {\n",
       "        text-align: right;\n",
       "    }\n",
       "</style>\n",
       "<table border=\"1\" class=\"dataframe\">\n",
       "  <thead>\n",
       "    <tr style=\"text-align: right;\">\n",
       "      <th></th>\n",
       "      <th>order_id</th>\n",
       "      <th>user_id</th>\n",
       "      <th>order_number</th>\n",
       "      <th>order_dow</th>\n",
       "      <th>days_since_prior_order</th>\n",
       "    </tr>\n",
       "  </thead>\n",
       "  <tbody>\n",
       "    <tr>\n",
       "      <th>count</th>\n",
       "      <td>3.421083e+06</td>\n",
       "      <td>3.421083e+06</td>\n",
       "      <td>3.421083e+06</td>\n",
       "      <td>3.421083e+06</td>\n",
       "      <td>3.421083e+06</td>\n",
       "    </tr>\n",
       "    <tr>\n",
       "      <th>mean</th>\n",
       "      <td>1.710542e+06</td>\n",
       "      <td>1.029782e+05</td>\n",
       "      <td>1.715486e+01</td>\n",
       "      <td>2.776219e+00</td>\n",
       "      <td>1.044488e+01</td>\n",
       "    </tr>\n",
       "    <tr>\n",
       "      <th>std</th>\n",
       "      <td>9.875817e+05</td>\n",
       "      <td>5.953372e+04</td>\n",
       "      <td>1.773316e+01</td>\n",
       "      <td>2.046829e+00</td>\n",
       "      <td>9.308727e+00</td>\n",
       "    </tr>\n",
       "    <tr>\n",
       "      <th>min</th>\n",
       "      <td>1.000000e+00</td>\n",
       "      <td>1.000000e+00</td>\n",
       "      <td>1.000000e+00</td>\n",
       "      <td>0.000000e+00</td>\n",
       "      <td>0.000000e+00</td>\n",
       "    </tr>\n",
       "    <tr>\n",
       "      <th>25%</th>\n",
       "      <td>8.552715e+05</td>\n",
       "      <td>5.139400e+04</td>\n",
       "      <td>5.000000e+00</td>\n",
       "      <td>1.000000e+00</td>\n",
       "      <td>4.000000e+00</td>\n",
       "    </tr>\n",
       "    <tr>\n",
       "      <th>50%</th>\n",
       "      <td>1.710542e+06</td>\n",
       "      <td>1.026890e+05</td>\n",
       "      <td>1.100000e+01</td>\n",
       "      <td>3.000000e+00</td>\n",
       "      <td>7.000000e+00</td>\n",
       "    </tr>\n",
       "    <tr>\n",
       "      <th>75%</th>\n",
       "      <td>2.565812e+06</td>\n",
       "      <td>1.543850e+05</td>\n",
       "      <td>2.300000e+01</td>\n",
       "      <td>5.000000e+00</td>\n",
       "      <td>1.500000e+01</td>\n",
       "    </tr>\n",
       "    <tr>\n",
       "      <th>max</th>\n",
       "      <td>3.421083e+06</td>\n",
       "      <td>2.062090e+05</td>\n",
       "      <td>1.000000e+02</td>\n",
       "      <td>6.000000e+00</td>\n",
       "      <td>3.000000e+01</td>\n",
       "    </tr>\n",
       "  </tbody>\n",
       "</table>\n",
       "</div>"
      ],
      "text/plain": [
       "           order_id       user_id  order_number     order_dow  \\\n",
       "count  3.421083e+06  3.421083e+06  3.421083e+06  3.421083e+06   \n",
       "mean   1.710542e+06  1.029782e+05  1.715486e+01  2.776219e+00   \n",
       "std    9.875817e+05  5.953372e+04  1.773316e+01  2.046829e+00   \n",
       "min    1.000000e+00  1.000000e+00  1.000000e+00  0.000000e+00   \n",
       "25%    8.552715e+05  5.139400e+04  5.000000e+00  1.000000e+00   \n",
       "50%    1.710542e+06  1.026890e+05  1.100000e+01  3.000000e+00   \n",
       "75%    2.565812e+06  1.543850e+05  2.300000e+01  5.000000e+00   \n",
       "max    3.421083e+06  2.062090e+05  1.000000e+02  6.000000e+00   \n",
       "\n",
       "       days_since_prior_order  \n",
       "count            3.421083e+06  \n",
       "mean             1.044488e+01  \n",
       "std              9.308727e+00  \n",
       "min              0.000000e+00  \n",
       "25%              4.000000e+00  \n",
       "50%              7.000000e+00  \n",
       "75%              1.500000e+01  \n",
       "max              3.000000e+01  "
      ]
     },
     "execution_count": 19,
     "metadata": {},
     "output_type": "execute_result"
    }
   ],
   "source": [
    "orders.describe()"
   ]
  },
  {
   "cell_type": "code",
   "execution_count": 20,
   "id": "2419aca5",
   "metadata": {},
   "outputs": [
    {
     "data": {
      "text/html": [
       "<div>\n",
       "<style scoped>\n",
       "    .dataframe tbody tr th:only-of-type {\n",
       "        vertical-align: middle;\n",
       "    }\n",
       "\n",
       "    .dataframe tbody tr th {\n",
       "        vertical-align: top;\n",
       "    }\n",
       "\n",
       "    .dataframe thead th {\n",
       "        text-align: right;\n",
       "    }\n",
       "</style>\n",
       "<table border=\"1\" class=\"dataframe\">\n",
       "  <thead>\n",
       "    <tr style=\"text-align: right;\">\n",
       "      <th></th>\n",
       "      <th>order_id</th>\n",
       "      <th>product_id</th>\n",
       "      <th>add_to_cart_order</th>\n",
       "      <th>reordered</th>\n",
       "      <th>aisle_id</th>\n",
       "      <th>department_id</th>\n",
       "    </tr>\n",
       "  </thead>\n",
       "  <tbody>\n",
       "    <tr>\n",
       "      <th>count</th>\n",
       "      <td>3.381911e+07</td>\n",
       "      <td>3.381911e+07</td>\n",
       "      <td>3.381911e+07</td>\n",
       "      <td>3.381911e+07</td>\n",
       "      <td>3.381911e+07</td>\n",
       "      <td>3.381911e+07</td>\n",
       "    </tr>\n",
       "    <tr>\n",
       "      <th>mean</th>\n",
       "      <td>1.710566e+06</td>\n",
       "      <td>2.557551e+04</td>\n",
       "      <td>8.367738e+00</td>\n",
       "      <td>5.900617e-01</td>\n",
       "      <td>7.121799e+01</td>\n",
       "      <td>9.918544e+00</td>\n",
       "    </tr>\n",
       "    <tr>\n",
       "      <th>std</th>\n",
       "      <td>9.874008e+05</td>\n",
       "      <td>1.409770e+04</td>\n",
       "      <td>7.139540e+00</td>\n",
       "      <td>4.918220e-01</td>\n",
       "      <td>3.819898e+01</td>\n",
       "      <td>6.281655e+00</td>\n",
       "    </tr>\n",
       "    <tr>\n",
       "      <th>min</th>\n",
       "      <td>1.000000e+00</td>\n",
       "      <td>1.000000e+00</td>\n",
       "      <td>1.000000e+00</td>\n",
       "      <td>0.000000e+00</td>\n",
       "      <td>1.000000e+00</td>\n",
       "      <td>1.000000e+00</td>\n",
       "    </tr>\n",
       "    <tr>\n",
       "      <th>25%</th>\n",
       "      <td>8.554130e+05</td>\n",
       "      <td>1.351900e+04</td>\n",
       "      <td>3.000000e+00</td>\n",
       "      <td>0.000000e+00</td>\n",
       "      <td>3.100000e+01</td>\n",
       "      <td>4.000000e+00</td>\n",
       "    </tr>\n",
       "    <tr>\n",
       "      <th>50%</th>\n",
       "      <td>1.710660e+06</td>\n",
       "      <td>2.525600e+04</td>\n",
       "      <td>6.000000e+00</td>\n",
       "      <td>1.000000e+00</td>\n",
       "      <td>8.300000e+01</td>\n",
       "      <td>9.000000e+00</td>\n",
       "    </tr>\n",
       "    <tr>\n",
       "      <th>75%</th>\n",
       "      <td>2.565587e+06</td>\n",
       "      <td>3.793500e+04</td>\n",
       "      <td>1.100000e+01</td>\n",
       "      <td>1.000000e+00</td>\n",
       "      <td>1.070000e+02</td>\n",
       "      <td>1.600000e+01</td>\n",
       "    </tr>\n",
       "    <tr>\n",
       "      <th>max</th>\n",
       "      <td>3.421083e+06</td>\n",
       "      <td>4.968800e+04</td>\n",
       "      <td>1.450000e+02</td>\n",
       "      <td>1.000000e+00</td>\n",
       "      <td>1.340000e+02</td>\n",
       "      <td>2.100000e+01</td>\n",
       "    </tr>\n",
       "  </tbody>\n",
       "</table>\n",
       "</div>"
      ],
      "text/plain": [
       "           order_id    product_id  add_to_cart_order     reordered  \\\n",
       "count  3.381911e+07  3.381911e+07       3.381911e+07  3.381911e+07   \n",
       "mean   1.710566e+06  2.557551e+04       8.367738e+00  5.900617e-01   \n",
       "std    9.874008e+05  1.409770e+04       7.139540e+00  4.918220e-01   \n",
       "min    1.000000e+00  1.000000e+00       1.000000e+00  0.000000e+00   \n",
       "25%    8.554130e+05  1.351900e+04       3.000000e+00  0.000000e+00   \n",
       "50%    1.710660e+06  2.525600e+04       6.000000e+00  1.000000e+00   \n",
       "75%    2.565587e+06  3.793500e+04       1.100000e+01  1.000000e+00   \n",
       "max    3.421083e+06  4.968800e+04       1.450000e+02  1.000000e+00   \n",
       "\n",
       "           aisle_id  department_id  \n",
       "count  3.381911e+07   3.381911e+07  \n",
       "mean   7.121799e+01   9.918544e+00  \n",
       "std    3.819898e+01   6.281655e+00  \n",
       "min    1.000000e+00   1.000000e+00  \n",
       "25%    3.100000e+01   4.000000e+00  \n",
       "50%    8.300000e+01   9.000000e+00  \n",
       "75%    1.070000e+02   1.600000e+01  \n",
       "max    1.340000e+02   2.100000e+01  "
      ]
     },
     "execution_count": 20,
     "metadata": {},
     "output_type": "execute_result"
    }
   ],
   "source": [
    "order_products.describe()"
   ]
  },
  {
   "cell_type": "code",
   "execution_count": 21,
   "id": "6de35866",
   "metadata": {},
   "outputs": [
    {
     "data": {
      "text/plain": [
       "0    600905\n",
       "1    587478\n",
       "2    467260\n",
       "5    453368\n",
       "6    448761\n",
       "3    436972\n",
       "4    426339\n",
       "Name: order_dow, dtype: int64"
      ]
     },
     "execution_count": 21,
     "metadata": {},
     "output_type": "execute_result"
    }
   ],
   "source": [
    "orders['order_dow'].value_counts()"
   ]
  },
  {
   "cell_type": "code",
   "execution_count": 22,
   "id": "ba33f8e2",
   "metadata": {},
   "outputs": [
    {
     "data": {
      "text/plain": [
       "fresh fruits                  3792661\n",
       "fresh vegetables              3568630\n",
       "packaged vegetables fruits    1843806\n",
       "yogurt                        1507583\n",
       "packaged cheese               1021462\n",
       "                               ...   \n",
       "eye ear care                     9522\n",
       "baby bath body care              8909\n",
       "baby accessories                 8466\n",
       "beauty                           6455\n",
       "frozen juice                     5147\n",
       "Name: aisle, Length: 134, dtype: int64"
      ]
     },
     "execution_count": 22,
     "metadata": {},
     "output_type": "execute_result"
    }
   ],
   "source": [
    "order_products['aisle'].value_counts()"
   ]
  },
  {
   "cell_type": "code",
   "execution_count": 23,
   "id": "1d5cc334",
   "metadata": {},
   "outputs": [
    {
     "data": {
      "text/plain": [
       "produce            9888378\n",
       "dairy eggs         5631067\n",
       "snacks             3006412\n",
       "beverages          2804175\n",
       "frozen             2336858\n",
       "pantry             1956819\n",
       "bakery             1225181\n",
       "canned goods       1114857\n",
       "deli               1095540\n",
       "dry goods pasta     905340\n",
       "household           774652\n",
       "meat seafood        739238\n",
       "breakfast           739069\n",
       "personal care       468693\n",
       "babies              438743\n",
       "international       281155\n",
       "alcohol             159294\n",
       "pets                102221\n",
       "missing              77396\n",
       "other                38086\n",
       "bulk                 35932\n",
       "Name: department, dtype: int64"
      ]
     },
     "execution_count": 23,
     "metadata": {},
     "output_type": "execute_result"
    }
   ],
   "source": [
    "order_products['department'].value_counts()"
   ]
  },
  {
   "cell_type": "code",
   "execution_count": 24,
   "id": "629200da",
   "metadata": {},
   "outputs": [
    {
     "data": {
      "text/plain": [
       "16.590367054784224"
      ]
     },
     "execution_count": 24,
     "metadata": {},
     "output_type": "execute_result"
    }
   ],
   "source": [
    "avg_orders_per_user = orders.groupby('user_id')['order_id'].count().mean()\n",
    "avg_orders_per_user"
   ]
  },
  {
   "cell_type": "code",
   "execution_count": 25,
   "id": "369db2b2",
   "metadata": {},
   "outputs": [
    {
     "data": {
      "text/plain": [
       "user_id\n",
       "1         17.272727\n",
       "2         15.200000\n",
       "3         11.076923\n",
       "4         14.166667\n",
       "5          9.200000\n",
       "            ...    \n",
       "206205    12.500000\n",
       "206206     3.661765\n",
       "206207    13.470588\n",
       "206208     7.220000\n",
       "206209    17.142857\n",
       "Name: days_since_prior_order, Length: 206209, dtype: float64"
      ]
     },
     "execution_count": 25,
     "metadata": {},
     "output_type": "execute_result"
    }
   ],
   "source": [
    "avg_time_between_orders = orders.groupby('user_id')['days_since_prior_order'].mean()\n",
    "avg_time_between_orders"
   ]
  },
  {
   "cell_type": "code",
   "execution_count": 26,
   "id": "191ccbdf",
   "metadata": {},
   "outputs": [
    {
     "data": {
      "text/plain": [
       "152340    100\n",
       "185641    100\n",
       "185524    100\n",
       "81678     100\n",
       "70922     100\n",
       "         ... \n",
       "13046       4\n",
       "70208       4\n",
       "111440      4\n",
       "31762       4\n",
       "47980       4\n",
       "Name: user_id, Length: 206209, dtype: int64"
      ]
     },
     "execution_count": 26,
     "metadata": {},
     "output_type": "execute_result"
    }
   ],
   "source": [
    "orders_per_customer = orders['user_id'].value_counts()\n",
    "orders_per_customer"
   ]
  },
  {
   "cell_type": "code",
   "execution_count": 27,
   "id": "cee71580",
   "metadata": {},
   "outputs": [
    {
     "data": {
      "text/plain": [
       "(3.903, 23.2]    163710\n",
       "(23.2, 42.4]      26296\n",
       "(42.4, 61.6]       9938\n",
       "(61.6, 80.8]       3436\n",
       "(80.8, 100.0]      2829\n",
       "Name: user_id, dtype: int64"
      ]
     },
     "execution_count": 27,
     "metadata": {},
     "output_type": "execute_result"
    }
   ],
   "source": [
    "customer_segments = orders_per_customer.value_counts(bins=5)\n",
    "customer_segments"
   ]
  },
  {
   "cell_type": "code",
   "execution_count": 28,
   "id": "f6162004",
   "metadata": {},
   "outputs": [
    {
     "data": {
      "image/png": "[encoded data removed]",
      "text/plain": [
       "<Figure size 640x480 with 1 Axes>"
      ]
     },
     "metadata": {},
     "output_type": "display_data"
    }
   ],
   "source": [
    "import matplotlib.pyplot as plt\n",
    "\n",
    "orders_per_customer.hist(bins=5)\n",
    "plt.xlabel('Number of Orders')\n",
    "plt.ylabel('Number of Customers')\n",
    "plt.title('Distribution of Orders per Customer')\n",
    "plt.show()"
   ]
  },
  {
   "cell_type": "code",
   "execution_count": 29,
   "id": "7282ce3f",
   "metadata": {},
   "outputs": [
    {
     "data": {
      "text/plain": [
       "Banana                    491291\n",
       "Bag of Organic Bananas    394930\n",
       "Organic Strawberries      275577\n",
       "Organic Baby Spinach      251705\n",
       "Organic Hass Avocado      220877\n",
       "Organic Avocado           184224\n",
       "Large Lemon               160792\n",
       "Strawberries              149445\n",
       "Limes                     146660\n",
       "Organic Whole Milk        142813\n",
       "Name: product_name, dtype: int64"
      ]
     },
     "execution_count": 29,
     "metadata": {},
     "output_type": "execute_result"
    }
   ],
   "source": [
    "popular_products = order_products['product_name'].value_counts().head(10)\n",
    "popular_products"
   ]
  },
  {
   "cell_type": "code",
   "execution_count": 30,
   "id": "4673bff0",
   "metadata": {},
   "outputs": [
    {
     "data": {
      "text/plain": [
       "10.10707325550502"
      ]
     },
     "execution_count": 30,
     "metadata": {},
     "output_type": "execute_result"
    }
   ],
   "source": [
    "avg_order_size = order_products.groupby('order_id').size().mean()\n",
    "avg_order_size"
   ]
  },
  {
   "cell_type": "code",
   "execution_count": 31,
   "id": "e296b216",
   "metadata": {},
   "outputs": [
    {
     "data": {
      "text/plain": [
       "10.10707325550502"
      ]
     },
     "execution_count": 31,
     "metadata": {},
     "output_type": "execute_result"
    }
   ],
   "source": [
    "avg_order_size = order_products.groupby('order_id')['product_id'].count().mean()\n",
    "avg_order_size"
   ]
  },
  {
   "cell_type": "code",
   "execution_count": 34,
   "id": "672e8815",
   "metadata": {},
   "outputs": [],
   "source": [
    "orders_by_dow = orders['order_dow'].value_counts()\n",
    "orders_by_hour = orders['order_hour_of_day'].value_counts()"
   ]
  },
  {
   "cell_type": "code",
   "execution_count": 35,
   "id": "c7f3cbf6",
   "metadata": {},
   "outputs": [
    {
     "data": {
      "text/plain": [
       "[(('Bag of Organic Bananas', 'Organic Strawberries'), 42306),\n",
       " (('Banana', 'Organic Strawberries'), 40166),\n",
       " (('Bag of Organic Bananas', 'Organic Hass Avocado'), 39222),\n",
       " (('Banana', 'Organic Baby Spinach'), 37013),\n",
       " (('Banana', 'Organic Avocado'), 35407),\n",
       " (('Bag of Organic Bananas', 'Organic Baby Spinach'), 35211),\n",
       " (('Banana', 'Strawberries'), 30570),\n",
       " (('Banana', 'Large Lemon'), 30385),\n",
       " (('Bag of Organic Bananas', 'Organic Raspberries'), 26814),\n",
       " (('Organic Hass Avocado', 'Bag of Organic Bananas'), 25539)]"
      ]
     },
     "execution_count": 35,
     "metadata": {},
     "output_type": "execute_result"
    }
   ],
   "source": [
    "from itertools import combinations\n",
    "from collections import Counter\n",
    "\n",
    "# Create a list of lists containing products in each order and Generate combinations of products in each order\n",
    "order_product_combinations = order_products.groupby('order_id')['product_name'].apply(lambda x: list(combinations(x, 2)))\n",
    "\n",
    "# Flatten the list of combinations and Get the most common combinations\n",
    "flat_combinations = [item for sublist in order_product_combinations for item in sublist]\n",
    "most_common_combinations =  Counter(flat_combinations).most_common(10)\n",
    "most_common_combinations"
   ]
  },
  {
   "cell_type": "code",
   "execution_count": 36,
   "id": "7b4bd72e",
   "metadata": {},
   "outputs": [
    {
     "data": {
      "text/plain": [
       "24852    491291\n",
       "13176    394930\n",
       "21137    275577\n",
       "21903    251705\n",
       "47209    220877\n",
       "47766    184224\n",
       "47626    160792\n",
       "16797    149445\n",
       "26209    146660\n",
       "27845    142813\n",
       "Name: product_id, dtype: int64"
      ]
     },
     "execution_count": 36,
     "metadata": {},
     "output_type": "execute_result"
    }
   ],
   "source": [
    "top_selling_products = order_products['product_id'].value_counts().head(10)\n",
    "top_selling_products"
   ]
  },
  {
   "cell_type": "code",
   "execution_count": 37,
   "id": "c85cbae8",
   "metadata": {},
   "outputs": [
    {
     "data": {
      "text/plain": [
       "24852    115521\n",
       "13176     82877\n",
       "27845     32071\n",
       "21137     28875\n",
       "47209     24913\n",
       "Name: product_id, dtype: int64"
      ]
     },
     "execution_count": 37,
     "metadata": {},
     "output_type": "execute_result"
    }
   ],
   "source": [
    "first_added_products = order_products[order_products['add_to_cart_order'] == 1]['product_id'].value_counts().head(5)\n",
    "first_added_products"
   ]
  },
  {
   "cell_type": "code",
   "execution_count": 39,
   "id": "21c5ca3e",
   "metadata": {},
   "outputs": [
    {
     "data": {
      "text/plain": [
       "[(('Bag of Organic Bananas', 'Organic Strawberries'), 42306),\n",
       " (('Banana', 'Organic Strawberries'), 40166),\n",
       " (('Bag of Organic Bananas', 'Organic Hass Avocado'), 39222),\n",
       " (('Banana', 'Organic Baby Spinach'), 37013),\n",
       " (('Banana', 'Organic Avocado'), 35407),\n",
       " (('Bag of Organic Bananas', 'Organic Baby Spinach'), 35211),\n",
       " (('Banana', 'Strawberries'), 30570),\n",
       " (('Banana', 'Large Lemon'), 30385),\n",
       " (('Bag of Organic Bananas', 'Organic Raspberries'), 26814),\n",
       " (('Organic Hass Avocado', 'Bag of Organic Bananas'), 25539)]"
      ]
     },
     "execution_count": 39,
     "metadata": {},
     "output_type": "execute_result"
    }
   ],
   "source": [
    "top_10_product_pairs = most_common_combinations[:10]\n",
    "top_10_product_pairs"
   ]
  },
  {
   "cell_type": "code",
   "execution_count": 40,
   "id": "4743a166",
   "metadata": {},
   "outputs": [
    {
     "data": {
      "text/plain": [
       "0.5900617242809434"
      ]
     },
     "execution_count": 40,
     "metadata": {},
     "output_type": "execute_result"
    }
   ],
   "source": [
    "#Analyze the reordered column to understand repeat purchase behavior\n",
    "reorder_rate = order_products['reordered'].mean()\n",
    "reorder_rate"
   ]
  },
  {
   "cell_type": "code",
   "execution_count": 41,
   "id": "b1f54690",
   "metadata": {},
   "outputs": [
    {
     "data": {
      "text/plain": [
       "24852    415166\n",
       "13176    329275\n",
       "21137    214448\n",
       "21903    194939\n",
       "47209    176173\n",
       "47766    140270\n",
       "27845    118684\n",
       "47626    112178\n",
       "27966    109688\n",
       "16797    104588\n",
       "Name: product_id, dtype: int64"
      ]
     },
     "execution_count": 41,
     "metadata": {},
     "output_type": "execute_result"
    }
   ],
   "source": [
    "#Products reordered the most\n",
    "most_reordered_products = order_products[order_products['reordered'] == 1]['product_id'].value_counts().head(10)\n",
    "most_reordered_products"
   ]
  },
  {
   "cell_type": "code",
   "execution_count": 44,
   "id": "bc53c4a8",
   "metadata": {},
   "outputs": [],
   "source": [
    "#Reorder behavior based on day of the week and days since prior order\n",
    "reorder_by_dow = orders.groupby('order_dow')['order_number'].mean()\n",
    "reorder_by_days_since = orders.groupby('days_since_prior_order')['order_number'].mean()"
   ]
  },
  {
   "cell_type": "code",
   "execution_count": 46,
   "id": "0d97b6a6",
   "metadata": {},
   "outputs": [
    {
     "data": {
      "text/plain": [
       "order_id\n",
       "1          0.500000\n",
       "2          0.666667\n",
       "3          1.000000\n",
       "4          0.923077\n",
       "5          0.807692\n",
       "             ...   \n",
       "3421079    0.000000\n",
       "3421080    0.444444\n",
       "3421081    0.000000\n",
       "3421082    0.571429\n",
       "3421083    0.400000\n",
       "Name: reordered, Length: 3346083, dtype: float64"
      ]
     },
     "execution_count": 46,
     "metadata": {},
     "output_type": "execute_result"
    }
   ],
   "source": [
    "reorder_by_cart_size = order_products.groupby('order_id')['reordered'].mean()\n",
    "reorder_by_cart_size"
   ]
  },
  {
   "cell_type": "code",
   "execution_count": 55,
   "id": "e5d50328",
   "metadata": {},
   "outputs": [
    {
     "data": {
      "text/plain": [
       "order_id\n",
       "1           8\n",
       "2           9\n",
       "3           8\n",
       "4          13\n",
       "5          26\n",
       "           ..\n",
       "3421079     1\n",
       "3421080     9\n",
       "3421081     7\n",
       "3421082     7\n",
       "3421083    10\n",
       "Name: product_id, Length: 3346083, dtype: int64"
      ]
     },
     "execution_count": 55,
     "metadata": {},
     "output_type": "execute_result"
    }
   ],
   "source": [
    "#Segment customers based on the total amount they’ve spent on orders:\n",
    "customer_spending = order_products.groupby('order_id')['product_id'].count()\n",
    "customer_spending"
   ]
  },
  {
   "cell_type": "code",
   "execution_count": 56,
   "id": "24c43cd4",
   "metadata": {},
   "outputs": [
    {
     "name": "stdout",
     "output_type": "stream",
     "text": [
      "[     1      2      3 ... 206207 206208 206209]\n",
      "[]\n"
     ]
    }
   ],
   "source": [
    "#Identify customers who haven’t placed an order in the last 30 days\n",
    "recent_orders = orders[orders['days_since_prior_order'] <= 30]['user_id'].unique()\n",
    "inactive_customers = orders[~orders['user_id'].isin(recent_orders)]['user_id'].unique()\n",
    "print(recent_orders)\n",
    "print(inactive_customers)"
   ]
  },
  {
   "cell_type": "code",
   "execution_count": 57,
   "id": "dab86fb6",
   "metadata": {},
   "outputs": [
    {
     "data": {
      "text/plain": [
       "0.0"
      ]
     },
     "execution_count": 57,
     "metadata": {},
     "output_type": "execute_result"
    }
   ],
   "source": [
    "#Percentage of customers who have churned in the past quarter:\n",
    "churned_customers = len(inactive_customers) / orders['user_id'].nunique()\n",
    "churned_customers"
   ]
  },
  {
   "cell_type": "code",
   "execution_count": 58,
   "id": "11b9e259",
   "metadata": {},
   "outputs": [
    {
     "name": "stdout",
     "output_type": "stream",
     "text": [
      "department_id\n",
      "4     9888378\n",
      "16    5631067\n",
      "19    3006412\n",
      "7     2804175\n",
      "1     2336858\n",
      "13    1956819\n",
      "3     1225181\n",
      "15    1114857\n",
      "20    1095540\n",
      "9      905340\n",
      "17     774652\n",
      "12     739238\n",
      "14     739069\n",
      "11     468693\n",
      "18     438743\n",
      "6      281155\n",
      "5      159294\n",
      "8      102221\n",
      "21      77396\n",
      "2       38086\n",
      "10      35932\n",
      "Name: product_id, dtype: int64\n",
      "aisle_id\n",
      "24     3792661\n",
      "83     3568630\n",
      "123    1843806\n",
      "120    1507583\n",
      "21     1021462\n",
      "        ...   \n",
      "44        9522\n",
      "102       8909\n",
      "82        8466\n",
      "132       6455\n",
      "113       5147\n",
      "Name: product_id, Length: 134, dtype: int64\n"
     ]
    }
   ],
   "source": [
    "best_selling_departments = order_products.groupby('department_id')['product_id'].count().sort_values(ascending=False)\n",
    "best_selling_aisles = order_products.groupby('aisle_id')['product_id'].count().sort_values(ascending=False)\n",
    "print(best_selling_departments)\n",
    "print(best_selling_aisles)"
   ]
  },
  {
   "cell_type": "code",
   "execution_count": 59,
   "id": "ea8185d1",
   "metadata": {},
   "outputs": [
    {
     "name": "stdout",
     "output_type": "stream",
     "text": [
      "4\n",
      "     aisle_id                       aisle\n",
      "15         16                 fresh herbs\n",
      "23         24                fresh fruits\n",
      "31         32            packaged produce\n",
      "82         83            fresh vegetables\n",
      "122       123  packaged vegetables fruits\n"
     ]
    }
   ],
   "source": [
    "produce_department_id = departments[departments['department'] == 'produce']['department_id'].values[0]\n",
    "produce_aisles = aisles[aisles['aisle_id'].isin(order_products[order_products['department_id'] == produce_department_id]['aisle_id'].unique())]\n",
    "print(produce_department_id)\n",
    "print(produce_aisles)"
   ]
  },
  {
   "cell_type": "code",
   "execution_count": 60,
   "id": "29fa29c6",
   "metadata": {},
   "outputs": [
    {
     "name": "stdout",
     "output_type": "stream",
     "text": [
      "department_id\n",
      "1     0.542634\n",
      "2     0.407052\n",
      "3     0.628381\n",
      "4     0.650521\n",
      "5     0.571221\n",
      "6     0.369682\n",
      "7     0.653651\n",
      "8     0.602557\n",
      "9     0.462220\n",
      "10    0.577090\n",
      "11    0.321863\n",
      "12    0.568625\n",
      "13    0.347400\n",
      "14    0.561351\n",
      "15    0.458639\n",
      "16    0.670161\n",
      "17    0.403339\n",
      "18    0.577680\n",
      "19    0.574464\n",
      "20    0.608130\n",
      "21    0.394323\n",
      "Name: reordered, dtype: float64\n",
      "aisle_id\n",
      "1      0.596629\n",
      "2      0.489753\n",
      "3      0.597995\n",
      "4      0.490228\n",
      "5      0.281312\n",
      "         ...   \n",
      "130    0.499739\n",
      "131    0.454362\n",
      "132    0.212858\n",
      "133    0.343361\n",
      "134    0.487263\n",
      "Name: reordered, Length: 134, dtype: float64\n"
     ]
    }
   ],
   "source": [
    "department_behavior = order_products.groupby('department_id')['reordered'].mean()\n",
    "aisle_behavior = order_products.groupby('aisle_id')['reordered'].mean()\n",
    "print(department_behavior)\n",
    "print(aisle_behavior)"
   ]
  },
  {
   "cell_type": "code",
   "execution_count": null,
   "id": "178bfe84",
   "metadata": {},
   "outputs": [],
   "source": []
  }
 ],
 "metadata": {
  "kernelspec": {
   "display_name": "Python 3 (ipykernel)",
   "language": "python",
   "name": "python3"
  },
  "language_info": {
   "codemirror_mode": {
    "name": "ipython",
    "version": 3
   },
   "file_extension": ".py",
   "mimetype": "text/x-python",
   "name": "python",
   "nbconvert_exporter": "python",
   "pygments_lexer": "ipython3",
   "version": "3.10.9"
  }
 },
 "nbformat": 4,
 "nbformat_minor": 5
}
